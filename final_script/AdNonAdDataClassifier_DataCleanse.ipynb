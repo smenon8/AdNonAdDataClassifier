{
 "cells": [
  {
   "cell_type": "markdown",
   "metadata": {
    "collapsed": false
   },
   "source": [
    "### Script Name : AdNonAdDataClassfier_DataCleanse.ipynb\n",
    "#### Author : Sreejith Menon, Jairaj Shaktawat, Surbhi Arora, Pooja Donekal, Shvetha Suvarna\n",
    "#### Date : 11/07/2015\n",
    "#### Version: 1.0 Initial Draft\n",
    "####                 2.0 Added Logic for Discretization"
   ]
  },
  {
   "cell_type": "code",
   "execution_count": 8,
   "metadata": {
    "collapsed": true
   },
   "outputs": [],
   "source": [
    "import numpy as np\n",
    "import csv\n",
    "import matplotlib.pyplot as plt\n",
    "import math\n",
    "import pandas as pd\n",
    "import statsmodels.api as sm\n",
    "import pylab as pl\n",
    "from sklearn.linear_model import LogisticRegression\n",
    "\n",
    "#%matplotlib inline"
   ]
  },
  {
   "cell_type": "code",
   "execution_count": null,
   "metadata": {
    "collapsed": false
   },
   "outputs": [],
   "source": [
    "adDataCsv = csv.reader(open(\"../data/ad.data\",\"r\"))\n",
    "\n",
    "headers = adDataCsv.__next__()\n",
    "len(headers)"
   ]
  },
  {
   "cell_type": "markdown",
   "metadata": {},
   "source": [
    "## Seperate training and test data\n",
    "### Training data is the data will no missing data\n",
    "### Test data is the data with missing data"
   ]
  },
  {
   "cell_type": "code",
   "execution_count": null,
   "metadata": {
    "collapsed": false
   },
   "outputs": [],
   "source": [
    "\n",
    "similar_index = []\n",
    "train_data = []\n",
    "test_data = []\n",
    "\n",
    "for row in adDataCsv:\n",
    "    if row[0].strip() == '?' or row[1].strip() == '?' or row[2].strip() == '?':\n",
    "        test_data.append(row)\n",
    "    else:\n",
    "        train_data.append(row)        \n",
    "\n",
    "print(\"done\")    "
   ]
  },
  {
   "cell_type": "markdown",
   "metadata": {},
   "source": [
    "## Imputing the missing data using k-NN"
   ]
  },
  {
   "cell_type": "code",
   "execution_count": null,
   "metadata": {
    "collapsed": false
   },
   "outputs": [],
   "source": [
    "## Calculating score matrix for each test data\n",
    "for row_test in test_data:\n",
    "    score = [0]*len(train_data)\n",
    "    row_num = 0\n",
    "    for row_train in train_data:\n",
    "        for attrib in range(3,len(headers)):\n",
    "            if row_test[attrib] == row_train[attrib]:\n",
    "                score[row_num] += 1\n",
    "        row_num += 1\n",
    "        \n",
    "        ## Score matrix for one test example available\n",
    "    similar_index.append(score.index(max(score)))"
   ]
  },
  {
   "cell_type": "code",
   "execution_count": null,
   "metadata": {
    "collapsed": false
   },
   "outputs": [],
   "source": [
    "print(score.index((max(score))))\n",
    "\n",
    "print(similar_index)"
   ]
  },
  {
   "cell_type": "code",
   "execution_count": null,
   "metadata": {
    "collapsed": false
   },
   "outputs": [],
   "source": [
    "## Assigning Height, Width and aratio same as that of the training data with the highest match\n",
    "\n",
    "for i in range(0,len(test_data)):\n",
    "    ind = similar_index[i]\n",
    "    test_data[i][0] = train_data[ind][0] # Height\n",
    "    test_data[i][1] = train_data[ind][1] # Width\n",
    "    test_data[i][2] = train_data[ind][2] # aratio\n",
    "    "
   ]
  },
  {
   "cell_type": "code",
   "execution_count": null,
   "metadata": {
    "collapsed": true
   },
   "outputs": [],
   "source": [
    "## Append the test data with the training data\n",
    "full_data = []\n",
    "for row in train_data:\n",
    "    full_data.append(row)\n",
    "    \n",
    "for row in test_data:\n",
    "    full_data.append(row)\n",
    "    \n",
    "\n"
   ]
  },
  {
   "cell_type": "markdown",
   "metadata": {},
   "source": [
    "## Logic for discretizing the continous field values.\n",
    "### Each of the real values divided into 14 "
   ]
  },
  {
   "cell_type": "code",
   "execution_count": null,
   "metadata": {
    "collapsed": true
   },
   "outputs": [],
   "source": [
    "for i in range(0,len(full_data)):\n",
    "    temp1=[0]*14\n",
    "    temp2=[0]*14\n",
    "    temp3=[0]*14\n",
    "\n",
    "    val1=math.floor(int(full_data[i][0])/50)\n",
    "    temp1[val1]=1\n",
    "   \n",
    "    val2=math.floor(int(full_data[i][1])/50)\n",
    "    temp2[val2]=1\n",
    "   \n",
    "    val3=math.floor(float(full_data[i][2])/5)\n",
    "    temp3[val3]=1\n",
    "    \n",
    "    full_data[i]=temp3+full_data[i][3:]\n",
    "    full_data[i]=temp2+full_data[i]\n",
    "    full_data[i]=temp1+full_data[i]"
   ]
  },
  {
   "cell_type": "code",
   "execution_count": null,
   "metadata": {
    "collapsed": false
   },
   "outputs": [],
   "source": [
    "print(full_data[1][0])"
   ]
  },
  {
   "cell_type": "code",
   "execution_count": null,
   "metadata": {
    "collapsed": false
   },
   "outputs": [],
   "source": [
    "### logic for removing the first 3 columns and ad = 1 and non_ad = 0\n",
    "\n",
    "i = 0\n",
    "full_bin_data = []\n",
    "for row in full_data:\n",
    "    row_dash = []\n",
    "    for i in range(0,len(row)):\n",
    "        if row[i] == \"ad.\":\n",
    "            row_dash.append(1)\n",
    "        else:\n",
    "            if row[i] == \"nonad.\":\n",
    "                row_dash.append(0)\n",
    "            else:\n",
    "                row_dash.append(row[i])\n",
    "    full_bin_data.append(row_dash)"
   ]
  },
  {
   "cell_type": "code",
   "execution_count": null,
   "metadata": {
    "collapsed": false
   },
   "outputs": [],
   "source": [
    "headers_back = headers\n",
    "\n",
    "headers_back.remove('height')\n",
    "headers_back.remove('width')\n",
    "headers_back.remove('aratio')\n",
    "\n",
    "headers_new = []\n",
    "\n",
    "for i in range(0,14):\n",
    "    headers_new.append('height%d'%i)\n",
    "\n",
    "for i in range(0,14):\n",
    "    headers_new.append('width%d'%i)    \n",
    "    \n",
    "for i in range(0,14):\n",
    "    headers_new.append('aratio%d'%i) \n",
    "    \n",
    "for row in headers_back:\n",
    "    headers_new.append(row)\n",
    "\n"
   ]
  },
  {
   "cell_type": "code",
   "execution_count": null,
   "metadata": {
    "collapsed": false,
    "scrolled": false
   },
   "outputs": [],
   "source": [
    "## Writing the data to a csv file\n",
    "\n",
    "print(len(full_bin_data))\n",
    "\n",
    "fl = open(\"../data/ready_for_logistic.csv\",\"w\")\n",
    "ready_full_data = csv.writer(fl,dialect = 'excel',lineterminator='\\n')\n",
    "ready_full_data.writerow(headers_new)\n",
    "for row in full_bin_data:\n",
    "    ready_full_data.writerow(row)\n",
    "    \n",
    "fl.close()    "
   ]
  },
  {
   "cell_type": "markdown",
   "metadata": {},
   "source": [
    "#### Cleansing data to convert everything to float values "
   ]
  },
  {
   "cell_type": "code",
   "execution_count": null,
   "metadata": {
    "collapsed": false
   },
   "outputs": [],
   "source": [
    "full_fl = csv.reader(open(\"../data/ready_for_logistic.csv\",\"r\"))\n",
    "headers = full_fl.__next__()\n",
    "\n",
    "fl = open(\"../data/ready_for_logistic_clean.csv\",\"w\")\n",
    "ready_full_data = csv.writer(fl,dialect = 'excel',lineterminator='\\n')\n",
    "ready_full_data.writerow(headers)\n",
    "count = 0\n",
    "for row in full_fl:\n",
    "    clean_row = []\n",
    "    for col in row:\n",
    "        if(col == '?'):\n",
    "            clean_row.append(0)\n",
    "            count += 1\n",
    "        else:\n",
    "            clean_row.append(int(col.strip()))\n",
    "        \n",
    "    ready_full_data.writerow(clean_row)\n",
    "\n",
    "fl.close()\n",
    "\n",
    "print(count)"
   ]
  }
 ],
 "metadata": {
  "kernelspec": {
   "display_name": "Python 3",
   "language": "python",
   "name": "python3"
  },
  "language_info": {
   "codemirror_mode": {
    "name": "ipython",
    "version": 3
   },
   "file_extension": ".py",
   "mimetype": "text/x-python",
   "name": "python",
   "nbconvert_exporter": "python",
   "pygments_lexer": "ipython3",
   "version": "3.4.3"
  }
 },
 "nbformat": 4,
 "nbformat_minor": 0
}
