{
 "cells": [
  {
   "cell_type": "code",
   "execution_count": 12,
   "metadata": {
    "collapsed": false
   },
   "outputs": [],
   "source": [
    "import sys\n",
    "import numpy as np\n",
    "import csv\n",
    "import matplotlib.pyplot as plt\n",
    "import math\n",
    "import pandas as pd\n",
    "import statsmodels.api as sm\n",
    "import pylab as pl\n",
    "from sklearn.linear_model import LogisticRegression\n",
    "import random\n"
   ]
  },
  {
   "cell_type": "code",
   "execution_count": 13,
   "metadata": {
    "collapsed": true
   },
   "outputs": [],
   "source": [
    "def randomize_file():\n",
    "    f = open('../data/ready_for_logistic_clean.csv')\n",
    "    reader = csv.reader(f)\n",
    "    headers = reader.__next__()\n",
    "\n",
    "    dt = []\n",
    "    for row in reader:\n",
    "        dt.append(row)\n",
    "\n",
    "    f.close()\n",
    "\n",
    "    rand = random.sample(range(0, len(dt)), len(dt))\n",
    "\n",
    "    rand_data = []\n",
    "    #print(max(rand))\n",
    "\n",
    "    for i in rand:\n",
    "        #print(rand[i])\n",
    "        rand_data.append(dt[rand[i]])\n",
    "\n",
    "    fl = open(\"../data/ready_for_logistic_clean_1.csv\",\"w\")\n",
    "    ready_full_data = csv.writer(fl,dialect = 'excel',lineterminator='\\n')\n",
    "    ready_full_data.writerow(headers)\n",
    "    for row in rand_data:\n",
    "        ready_full_data.writerow(row)\n",
    "\n",
    "    fl.close() \n",
    "    return \"done\""
   ]
  },
  {
   "cell_type": "code",
   "execution_count": 14,
   "metadata": {
    "collapsed": true
   },
   "outputs": [],
   "source": [
    "def logistic_regression(percent):\n",
    "    randomize_file()\n",
    "    dta = pd.read_csv('../data/ready_for_logistic_clean_1.csv')\n",
    "    \n",
    "    #printing a few statistics\n",
    "    #print(dta.std())\n",
    "    div_percentage = percent/100\n",
    "    train_test_boundary = math.floor(div_percentage*len(dta))\n",
    "    end_boundary = len(dta)\n",
    "    train_data = dta[:train_test_boundary]\n",
    "    test_data = dta[train_test_boundary:]\n",
    "    \n",
    "    \n",
    "    full_fl = csv.reader(open(\"../data/ready_for_logistic_clean.csv\",\"r\"))\n",
    "    headers = full_fl.__next__()\n",
    "    data = train_data[headers]\n",
    "    test_data = test_data[headers]\n",
    "    data['intercept'] = 1.0\n",
    "    test_data['intercept'] = 1.0\n",
    "    #print(data.head())\n",
    "    \n",
    "    headers_1 = headers\n",
    "    headers_1.remove('class')\n",
    "    headers_1.append('intercept')\n",
    "    \n",
    "    \n",
    "    # ## Learning using logistic regression\n",
    "    \n",
    "    logistic = LogisticRegression()\n",
    "    y = data['class']\n",
    "    X = data[headers_1]\n",
    "    logistic.fit(X,y)\n",
    "    \n",
    "    \n",
    "    # ## Predicition made on the test data\n",
    "    \n",
    "    y = test_data['class']\n",
    "    actual_class_val = []\n",
    "    for i in range(train_test_boundary,end_boundary):\n",
    "        actual_class_val.append(y[i])\n",
    "    \n",
    "    # Predicted value\n",
    "    predictions = logistic.predict(test_data[headers_1])   \n",
    "    \n",
    "    ## Calculating accuracy of training data set\n",
    "    \n",
    "    count = 0\n",
    "    \n",
    "    for i in range(0,(end_boundary-train_test_boundary)):\n",
    "        if predictions[i] == actual_class_val[i]:\n",
    "            count += 1\n",
    "            \n",
    "    return count*100/(end_boundary-train_test_boundary)\n"
   ]
  },
  {
   "cell_type": "code",
   "execution_count": 27,
   "metadata": {
    "collapsed": false
   },
   "outputs": [
    {
     "name": "stdout",
     "output_type": "stream",
     "text": [
      "40\n",
      "41\n",
      "42\n",
      "43\n",
      "44\n",
      "45\n",
      "46\n",
      "47\n",
      "48\n",
      "49\n",
      "50\n",
      "51\n",
      "52\n",
      "53\n",
      "54\n",
      "55\n",
      "56\n",
      "57\n",
      "58\n",
      "59\n",
      "60\n",
      "61\n",
      "62\n",
      "63\n",
      "64\n",
      "65\n",
      "66\n",
      "67\n",
      "68\n",
      "69\n",
      "70\n",
      "71\n",
      "72\n",
      "73\n",
      "74\n",
      "75\n",
      "76\n",
      "77\n",
      "78\n",
      "79\n",
      "80\n",
      "81\n",
      "82\n",
      "83\n",
      "84\n",
      "85\n",
      "86\n",
      "87\n",
      "88\n",
      "89\n",
      "90\n",
      "91\n",
      "92\n",
      "93\n",
      "94\n",
      "95\n",
      "96\n",
      "97\n",
      "98\n",
      "99\n"
     ]
    }
   ],
   "source": [
    "x = []\n",
    "y = []\n",
    "for i in range(40,100):\n",
    "    x.append(i)\n",
    "    y.append(logistic_regression(i))\n",
    "    print(i)"
   ]
  },
  {
   "cell_type": "code",
   "execution_count": null,
   "metadata": {
    "collapsed": false
   },
   "outputs": [],
   "source": [
    "a = logistic_regression(10)"
   ]
  },
  {
   "cell_type": "code",
   "execution_count": null,
   "metadata": {
    "collapsed": false
   },
   "outputs": [],
   "source": [
    "sys.modules[__name__].__dict__.clear()"
   ]
  },
  {
   "cell_type": "code",
   "execution_count": 32,
   "metadata": {
    "collapsed": false
   },
   "outputs": [],
   "source": [
    "\n",
    "ax = pl.subplot(111)\n",
    "\n",
    "ax.set_xlim([40,100])\n",
    "ax.set_ylim([70, 100])\n",
    "pl.xlabel('Training data percentage', fontsize=18)\n",
    "pl.ylabel('Prediction Accuracy', fontsize=16)\n",
    "pl.plot(x,y)\n",
    "pl.show()"
   ]
  },
  {
   "cell_type": "code",
   "execution_count": null,
   "metadata": {
    "collapsed": true
   },
   "outputs": [],
   "source": []
  }
 ],
 "metadata": {
  "kernelspec": {
   "display_name": "Python 3",
   "language": "python",
   "name": "python3"
  },
  "language_info": {
   "codemirror_mode": {
    "name": "ipython",
    "version": 3
   },
   "file_extension": ".py",
   "mimetype": "text/x-python",
   "name": "python",
   "nbconvert_exporter": "python",
   "pygments_lexer": "ipython3",
   "version": "3.4.3"
  }
 },
 "nbformat": 4,
 "nbformat_minor": 0
}
