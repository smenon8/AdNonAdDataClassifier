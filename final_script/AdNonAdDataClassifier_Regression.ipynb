{
 "cells": [
  {
   "cell_type": "markdown",
   "metadata": {
    "collapsed": false
   },
   "source": [
    "### Script Name : AdNonAdDataClassfier_Regression.ipynb\n",
    "#### Author : Sreejith Menon, Jairaj Shaktawat, Surbhi Arora, Pooja Donekal, Shvetha Suvarna\n",
    "#### Date : 11/07/2015\n",
    "#### Version: 1.0 Initial Draft\n",
    "####                 2.0 Added Logic for Discretization"
   ]
  },
  {
   "cell_type": "code",
   "execution_count": null,
   "metadata": {
    "collapsed": true
   },
   "outputs": [],
   "source": [
    "import numpy as np\n",
    "import csv\n",
    "import matplotlib.pyplot as plt\n",
    "import math\n",
    "import pandas as pd\n",
    "import statsmodels.api as sm\n",
    "import pylab as pl\n",
    "from sklearn.linear_model import LogisticRegression\n",
    "import random\n",
    "#%matplotlib inline"
   ]
  },
  {
   "cell_type": "code",
   "execution_count": null,
   "metadata": {
    "collapsed": false
   },
   "outputs": [],
   "source": [
    "# Randomizing the CSV file\n",
    "\n",
    "f = open('../data/ready_for_logistic_clean.csv')\n",
    "reader = csv.reader(f)\n",
    "headers = reader.__next__()\n",
    "\n",
    "dt = []\n",
    "for row in reader:\n",
    "    dt.append(row)\n",
    "\n",
    "f.close()\n",
    "\n",
    "rand = random.sample(range(0, len(dt)), len(dt))\n",
    "\n",
    "rand_data = []\n",
    "print(max(rand))\n",
    "\n",
    "for i in rand:\n",
    "    print(rand[i])\n",
    "    rand_data.append(dt[rand[i]])\n",
    "    \n",
    "fl = open(\"../data/ready_for_logistic_clean_1.csv\",\"w\")\n",
    "ready_full_data = csv.writer(fl,dialect = 'excel',lineterminator='\\n')\n",
    "ready_full_data.writerow(headers)\n",
    "for row in rand_data:\n",
    "    ready_full_data.writerow(row)\n",
    "    \n",
    "fl.close()     "
   ]
  },
  {
   "cell_type": "markdown",
   "metadata": {
    "collapsed": false
   },
   "source": [
    "## Getting the data ready for logistic regression"
   ]
  },
  {
   "cell_type": "code",
   "execution_count": null,
   "metadata": {
    "collapsed": false
   },
   "outputs": [],
   "source": [
    "dta = pd.read_csv('../data/ready_for_logistic_clean_1.csv')\n",
    "\n",
    "#printing a few statistics\n",
    "#print(dta.std())\n",
    "\n",
    "div_percentage = 0.80\n",
    "train_test_boundary = math.floor(div_percentage*len(dta))\n",
    "end_boundary = len(dta)\n",
    "train_data = dta[:train_test_boundary]\n",
    "test_data = dta[train_test_boundary:]"
   ]
  },
  {
   "cell_type": "code",
   "execution_count": null,
   "metadata": {
    "collapsed": false
   },
   "outputs": [],
   "source": [
    "full_fl = csv.reader(open(\"../data/ready_for_logistic_clean.csv\",\"r\"))\n",
    "headers = full_fl.__next__()\n",
    "data = train_data[headers]\n",
    "test_data = test_data[headers]\n",
    "data['intercept'] = 1.0\n",
    "test_data['intercept'] = 1.0\n",
    "#print(data.head())\n",
    "\n",
    "headers_1 = headers\n",
    "headers_1.remove('class')\n",
    "headers_1.append('intercept')\n"
   ]
  },
  {
   "cell_type": "markdown",
   "metadata": {},
   "source": [
    "## Learning using logistic regression"
   ]
  },
  {
   "cell_type": "code",
   "execution_count": null,
   "metadata": {
    "collapsed": false
   },
   "outputs": [],
   "source": [
    "logistic = LogisticRegression()\n",
    "y = data['class']\n",
    "X = data[headers_1]\n",
    "logistic.fit(X,y)"
   ]
  },
  {
   "cell_type": "markdown",
   "metadata": {},
   "source": [
    "## Predicition made on the test data"
   ]
  },
  {
   "cell_type": "code",
   "execution_count": null,
   "metadata": {
    "collapsed": false
   },
   "outputs": [],
   "source": [
    "y = test_data['class']\n",
    "actual_class_val = []\n",
    "for i in range(train_test_boundary,end_boundary):\n",
    "    actual_class_val.append(y[i])\n",
    "\n",
    "# Predicted value\n",
    "predictions = logistic.predict(test_data[headers_1])   "
   ]
  },
  {
   "cell_type": "code",
   "execution_count": null,
   "metadata": {
    "collapsed": false
   },
   "outputs": [],
   "source": [
    "## Calculating accuracy of training data set\n",
    "\n",
    "print(len(predictions))\n",
    "print(len(actual_class_val))\n",
    "\n",
    "count = 0\n",
    "\n",
    "for i in range(0,(end_boundary-train_test_boundary)):\n",
    "    if predictions[i] == actual_class_val[i]:\n",
    "        count += 1\n",
    "        \n",
    "print(count)\n",
    "print(count*100/(end_boundary-train_test_boundary))"
   ]
  },
  {
   "cell_type": "code",
   "execution_count": null,
   "metadata": {
    "collapsed": false
   },
   "outputs": [],
   "source": [
    "ans = logistic.predict_proba(test_data[headers_1])"
   ]
  },
  {
   "cell_type": "code",
   "execution_count": null,
   "metadata": {
    "collapsed": false
   },
   "outputs": [],
   "source": [
    "x = []\n",
    "y = []\n",
    "z = []\n",
    "for row in ans:\n",
    "    x.append(row[0])\n",
    "    y.append(row[1])\n",
    "    z.append(row[0]+row[1])"
   ]
  },
  {
   "cell_type": "code",
   "execution_count": null,
   "metadata": {
    "collapsed": true
   },
   "outputs": [],
   "source": [
    "pl.plot(x)\n",
    "pl.plot(y)\n",
    "pl.plot(z)\n",
    "pl.xlabel('Testing data indices', fontsize=18)\n",
    "pl.ylabel('Probability of class', fontsize=16)\n",
    "plt.show()"
   ]
  },
  {
   "cell_type": "code",
   "execution_count": null,
   "metadata": {
    "collapsed": true
   },
   "outputs": [],
   "source": []
  }
 ],
 "metadata": {
  "kernelspec": {
   "display_name": "Python 3",
   "language": "python",
   "name": "python3"
  },
  "language_info": {
   "codemirror_mode": {
    "name": "ipython",
    "version": 3
   },
   "file_extension": ".py",
   "mimetype": "text/x-python",
   "name": "python",
   "nbconvert_exporter": "python",
   "pygments_lexer": "ipython3",
   "version": "3.5.1"
  }
 },
 "nbformat": 4,
 "nbformat_minor": 0
}
