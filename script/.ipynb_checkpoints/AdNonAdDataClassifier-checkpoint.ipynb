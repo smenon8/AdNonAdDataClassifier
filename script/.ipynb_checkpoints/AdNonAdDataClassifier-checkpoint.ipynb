{
 "cells": [
  {
   "cell_type": "code",
   "execution_count": null,
   "metadata": {
    "collapsed": false
   },
   "outputs": [],
   "source": [
    "\"\"\"\n",
    "    Script Name : AdNonAdDataClassfier.py\n",
    "    Author : Sreejith Menon\n",
    "    Date : 11/07/2015\n",
    "    \n",
    "    Version: 1.0 Initial Draft\n",
    "\"\"\""
   ]
  },
  {
   "cell_type": "code",
   "execution_count": null,
   "metadata": {
    "collapsed": true
   },
   "outputs": [],
   "source": [
    "import numpy as np\n",
    "import csv\n",
    "import matplotlib.pyplot as plt\n",
    "import math\n",
    "%matplotlib inline"
   ]
  },
  {
   "cell_type": "code",
   "execution_count": null,
   "metadata": {
    "collapsed": false
   },
   "outputs": [],
   "source": [
    "adDataCsv = csv.reader(open(\"../data/ad.data\",\"r\"))\n",
    "\n",
    "headers = adDataCsv.__next__()\n",
    "len(headers)"
   ]
  },
  {
   "cell_type": "code",
   "execution_count": null,
   "metadata": {
    "collapsed": false
   },
   "outputs": [],
   "source": [
    "## Seperate training and test data\n",
    "## Training data is the data will no missing data\n",
    "## Test data is the data with missing data\n",
    "\n",
    "train_data = []\n",
    "test_data = []\n",
    "similar_index = []\n",
    "\n",
    "for row in adDataCsv:\n",
    "    if row[0].strip() == '?' or row[1].strip() == '?' or row[2].strip() == '?':\n",
    "        test_data.append(row)\n",
    "    else:\n",
    "        train_data.append(row)        \n",
    "        \n",
    "csv_train_data = csv.writer(open(\"../data/train_ad.csv\",\"w\"),dialect = 'excel')\n",
    "csv_test_data = csv.writer(open(\"../data/test_ad.csv\",\"w\"),dialect = 'excel')\n",
    "\n",
    "for row in test_data:\n",
    "    csv_test_data.writerow(row)\n",
    "    \n",
    "    \n",
    "for row in train_data:\n",
    "    csv_train_data.writerow(row)   \n",
    "    \n",
    "print(\"done\")    "
   ]
  },
  {
   "cell_type": "code",
   "execution_count": null,
   "metadata": {
    "collapsed": false
   },
   "outputs": [],
   "source": [
    "## Calculating score matrix for each test data\n",
    "for row_test in test_data:\n",
    "    score = [0]*len(train_data)\n",
    "    row_num = 0\n",
    "    for row_train in train_data:\n",
    "        for attrib in range(3,len(headers)):\n",
    "            if row_test[attrib] == row_train[attrib]:\n",
    "                score[row_num] += 1\n",
    "        row_num += 1\n",
    "        \n",
    "        ## Score matrix for one test example available\n",
    "    similar_index.append(score.index(max(score)))"
   ]
  },
  {
   "cell_type": "code",
   "execution_count": null,
   "metadata": {
    "collapsed": false
   },
   "outputs": [],
   "source": [
    "print(similar_index)"
   ]
  },
  {
   "cell_type": "code",
   "execution_count": null,
   "metadata": {
    "collapsed": false
   },
   "outputs": [],
   "source": [
    "## Assigning Height, Width and aratio same as that of the training data with the highest match\n",
    "\n",
    "for i in range(0,len(test_data)):\n",
    "    ind = similar_index[i]\n",
    "    test_data[i][0] = train_data[ind][0] # Height\n",
    "    test_data[i][1] = train_data[ind][1] # Width\n",
    "    test_data[i][2] = train_data[ind][2] # aratio\n",
    "    "
   ]
  },
  {
   "cell_type": "code",
   "execution_count": null,
   "metadata": {
    "collapsed": true
   },
   "outputs": [],
   "source": [
    "## Append the test data with the training data\n",
    "full_data = []\n",
    "for row in train_data:\n",
    "    full_data.append(row)\n",
    "    \n",
    "for row in test_data:\n",
    "    full_data.append(row)\n",
    "    \n",
    "\n"
   ]
  },
  {
   "cell_type": "code",
   "execution_count": null,
   "metadata": {
    "collapsed": false
   },
   "outputs": [],
   "source": [
    "print(len(full_data))"
   ]
  },
  {
   "cell_type": "code",
   "execution_count": null,
   "metadata": {
    "collapsed": false
   },
   "outputs": [],
   "source": [
    "## Discretizing the real values\n",
    "## Finding max height and width\n",
    "max = [0,0,0]\n",
    "n_new_feature = [0,0,0]\n",
    "for row in full_data:\n",
    "    if max[0] < float(row[0].strip()):\n",
    "        max[0] = float(row[0].strip())\n",
    "        new_feature[0] = math.ceil(max[0]/10)\n",
    "    if max[1] < float(row[1].strip()):\n",
    "        max[1] = float(row[1].strip())\n",
    "        new_feature[1] = math.ceil(max[1]/10)\n",
    "    if max[2] < float(row[2].strip()):\n",
    "        max[2] = float(row[2].strip())\n",
    "        new_feature[2] = math.ceil(max[2]/10)\n",
    "        \n",
    "## Max will decide the number of new features to be added\n"
   ]
  },
  {
   "cell_type": "code",
   "execution_count": null,
   "metadata": {
    "collapsed": false
   },
   "outputs": [],
   "source": [
    "print(max)\n",
    "print(new_feature)"
   ]
  },
  {
   "cell_type": "code",
   "execution_count": null,
   "metadata": {
    "collapsed": false
   },
   "outputs": [],
   "source": [
    "disc_full_data = []\n",
    "single_row = []\n",
    "for row in full_data:\n",
    "    ind = math.floor(row[0].strip())\n",
    "    for j in range(0,3):\n",
    "        for i in range(0,n_new_feature[j]):\n",
    "            if i == ind:\n",
    "                single_row.append(1)\n",
    "            else:\n",
    "                single_row.append(0)\n",
    "                \n",
    "    "
   ]
  },
  {
   "cell_type": "code",
   "execution_count": null,
   "metadata": {
    "collapsed": true
   },
   "outputs": [],
   "source": []
  }
 ],
 "metadata": {
  "kernelspec": {
   "display_name": "Python 3",
   "language": "python",
   "name": "python3"
  },
  "language_info": {
   "codemirror_mode": {
    "name": "ipython",
    "version": 3
   },
   "file_extension": ".py",
   "mimetype": "text/x-python",
   "name": "python",
   "nbconvert_exporter": "python",
   "pygments_lexer": "ipython3",
   "version": "3.4.3"
  }
 },
 "nbformat": 4,
 "nbformat_minor": 0
}
