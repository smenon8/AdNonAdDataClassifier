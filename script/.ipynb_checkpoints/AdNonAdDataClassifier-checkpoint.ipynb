{
 "cells": [
  {
   "cell_type": "markdown",
   "metadata": {
    "collapsed": false
   },
   "source": [
    "### Script Name : AdNonAdDataClassfier.p\n",
    "#### Author : Sreejith Menon, Jairaj Shaktawat, Surbhi Arora, Pooja Donekal, Shvetha Suvarna\n",
    "#### Date : 11/07/2015\n",
    "#### Version: 1.0 Initial Draft\n",
    "####                 2.0 Added Logic for Discretization"
   ]
  },
  {
   "cell_type": "code",
   "execution_count": 212,
   "metadata": {
    "collapsed": true
   },
   "outputs": [],
   "source": [
    "import numpy as np\n",
    "import csv\n",
    "import matplotlib.pyplot as plt\n",
    "import math\n",
    "import pandas as pd\n",
    "import statsmodels.api as sm\n",
    "import pylab as pl\n",
    "from sklearn.linear_model import LogisticRegression\n",
    "\n",
    "%matplotlib inline"
   ]
  },
  {
   "cell_type": "code",
   "execution_count": 213,
   "metadata": {
    "collapsed": false
   },
   "outputs": [
    {
     "data": {
      "text/plain": [
       "1559"
      ]
     },
     "execution_count": 213,
     "metadata": {},
     "output_type": "execute_result"
    }
   ],
   "source": [
    "adDataCsv = csv.reader(open(\"../data/ad.data\",\"r\"))\n",
    "\n",
    "headers = adDataCsv.__next__()\n",
    "len(headers)"
   ]
  },
  {
   "cell_type": "markdown",
   "metadata": {},
   "source": [
    "## Seperate training and test data\n",
    "### Training data is the data will no missing data\n",
    "### Test data is the data with missing data"
   ]
  },
  {
   "cell_type": "code",
   "execution_count": 214,
   "metadata": {
    "collapsed": false
   },
   "outputs": [
    {
     "name": "stdout",
     "output_type": "stream",
     "text": [
      "done\n"
     ]
    }
   ],
   "source": [
    "\n",
    "similar_index = []\n",
    "train_data = []\n",
    "test_data = []\n",
    "\n",
    "for row in adDataCsv:\n",
    "    if row[0].strip() == '?' or row[1].strip() == '?' or row[2].strip() == '?':\n",
    "        test_data.append(row)\n",
    "    else:\n",
    "        train_data.append(row)        \n",
    "\n",
    "print(\"done\")    "
   ]
  },
  {
   "cell_type": "markdown",
   "metadata": {},
   "source": [
    "## Imputing the missing data using k-NN"
   ]
  },
  {
   "cell_type": "code",
   "execution_count": 215,
   "metadata": {
    "collapsed": false
   },
   "outputs": [],
   "source": [
    "## Calculating score matrix for each test data\n",
    "for row_test in test_data:\n",
    "    score = [0]*len(train_data)\n",
    "    row_num = 0\n",
    "    for row_train in train_data:\n",
    "        for attrib in range(3,len(headers)):\n",
    "            if row_test[attrib] == row_train[attrib]:\n",
    "                score[row_num] += 1\n",
    "        row_num += 1\n",
    "        \n",
    "        ## Score matrix for one test example available\n",
    "    similar_index.append(score.index(max(score)))"
   ]
  },
  {
   "cell_type": "code",
   "execution_count": 216,
   "metadata": {
    "collapsed": false
   },
   "outputs": [
    {
     "name": "stdout",
     "output_type": "stream",
     "text": [
      "480\n",
      "[11, 12, 188, 188, 188, 188, 333, 297, 297, 297, 297, 297, 297, 297, 150, 297, 297, 36, 36, 377, 128, 204, 336, 297, 297, 297, 105, 108, 258, 128, 128, 128, 128, 128, 128, 197, 197, 201, 297, 197, 7, 300, 7, 300, 7, 7, 7, 300, 300, 300, 668, 197, 197, 333, 190, 331, 333, 197, 197, 333, 197, 299, 680, 710, 710, 197, 190, 333, 190, 197, 288, 212, 721, 392, 392, 93, 567, 393, 392, 392, 393, 393, 392, 639, 393, 392, 392, 393, 567, 393, 735, 695, 567, 392, 393, 738, 567, 393, 480, 400, 730, 410, 323, 480, 392, 339, 393, 639, 510, 392, 400, 479, 480, 571, 639, 639, 661, 400, 93, 393, 393, 393, 339, 393, 392, 695, 480, 393, 393, 571, 393, 661, 392, 393, 392, 393, 639, 339, 393, 599, 661, 639, 318, 567, 393, 480, 339, 479, 571, 661, 571, 339, 392, 393, 480, 392, 393, 606, 479, 480, 393, 480, 392, 339, 392, 596, 480, 392, 656, 393, 392, 392, 409, 661, 567, 480, 393, 393, 393, 639, 567, 392, 409, 668, 480, 617, 392, 392, 392, 479, 479, 393, 392, 668, 480, 589, 393, 393, 393, 393, 459, 639, 393, 393, 393, 593, 393, 393, 593, 393, 459, 393, 459, 480, 468, 711, 461, 567, 697, 479, 393, 680, 409, 393, 691, 461, 593, 393, 392, 479, 567, 392, 393, 393, 480, 392, 96, 393, 479, 393, 393, 393, 393, 480]\n"
     ]
    }
   ],
   "source": [
    "print(score.index((max(score))))\n",
    "\n",
    "print(similar_index)"
   ]
  },
  {
   "cell_type": "code",
   "execution_count": 217,
   "metadata": {
    "collapsed": false
   },
   "outputs": [],
   "source": [
    "## Assigning Height, Width and aratio same as that of the training data with the highest match\n",
    "\n",
    "for i in range(0,len(test_data)):\n",
    "    ind = similar_index[i]\n",
    "    test_data[i][0] = train_data[ind][0] # Height\n",
    "    test_data[i][1] = train_data[ind][1] # Width\n",
    "    test_data[i][2] = train_data[ind][2] # aratio\n",
    "    "
   ]
  },
  {
   "cell_type": "code",
   "execution_count": 218,
   "metadata": {
    "collapsed": true
   },
   "outputs": [],
   "source": [
    "## Append the test data with the training data\n",
    "full_data = []\n",
    "for row in train_data:\n",
    "    full_data.append(row)\n",
    "    \n",
    "for row in test_data:\n",
    "    full_data.append(row)\n",
    "    \n",
    "\n"
   ]
  },
  {
   "cell_type": "markdown",
   "metadata": {},
   "source": [
    "## Logic for discretizing the continous field values.\n",
    "### Each of the real values divided into 14 "
   ]
  },
  {
   "cell_type": "code",
   "execution_count": 219,
   "metadata": {
    "collapsed": true
   },
   "outputs": [],
   "source": [
    "for i in range(0,len(full_data)):\n",
    "    temp1=[0]*14\n",
    "    temp2=[0]*14\n",
    "    temp3=[0]*14\n",
    "\n",
    "    val1=math.floor(int(full_data[i][0])/50)\n",
    "    temp1[val1]=1\n",
    "   \n",
    "    val2=math.floor(int(full_data[i][1])/50)\n",
    "    temp2[val2]=1\n",
    "   \n",
    "    val3=math.floor(float(full_data[i][2])/5)\n",
    "    temp3[val3]=1\n",
    "    \n",
    "    full_data[i]=temp3+full_data[i][3:]\n",
    "    full_data[i]=temp2+full_data[i]\n",
    "    full_data[i]=temp1+full_data[i]"
   ]
  },
  {
   "cell_type": "code",
   "execution_count": 220,
   "metadata": {
    "collapsed": false
   },
   "outputs": [
    {
     "name": "stdout",
     "output_type": "stream",
     "text": [
      "0\n"
     ]
    }
   ],
   "source": [
    "print(full_data[1][0])"
   ]
  },
  {
   "cell_type": "code",
   "execution_count": 221,
   "metadata": {
    "collapsed": false
   },
   "outputs": [],
   "source": [
    "### logic for removing the first 3 columns and ad = 1 and non_ad = 0\n",
    "\n",
    "i = 0\n",
    "full_bin_data = []\n",
    "for row in full_data:\n",
    "    row_dash = []\n",
    "    for i in range(0,len(row)):\n",
    "        if row[i] == \"ad.\":\n",
    "            row_dash.append(1)\n",
    "        else:\n",
    "            if row[i] == \"nonad.\":\n",
    "                row_dash.append(0)\n",
    "            else:\n",
    "                row_dash.append(row[i])\n",
    "    full_bin_data.append(row_dash)"
   ]
  },
  {
   "cell_type": "code",
   "execution_count": 222,
   "metadata": {
    "collapsed": false
   },
   "outputs": [],
   "source": [
    "headers_back = headers\n",
    "\n",
    "headers_back.remove('height')\n",
    "headers_back.remove('width')\n",
    "headers_back.remove('aratio')\n",
    "\n",
    "headers_new = []\n",
    "\n",
    "for i in range(0,14):\n",
    "    headers_new.append('height%d'%i)\n",
    "\n",
    "for i in range(0,14):\n",
    "    headers_new.append('width%d'%i)    \n",
    "    \n",
    "for i in range(0,14):\n",
    "    headers_new.append('aratio%d'%i) \n",
    "    \n",
    "for row in headers_back:\n",
    "    headers_new.append(row)\n",
    "\n"
   ]
  },
  {
   "cell_type": "code",
   "execution_count": 223,
   "metadata": {
    "collapsed": false,
    "scrolled": false
   },
   "outputs": [
    {
     "name": "stdout",
     "output_type": "stream",
     "text": [
      "998\n"
     ]
    }
   ],
   "source": [
    "## Writing the data to a csv file\n",
    "\n",
    "print(len(full_bin_data))\n",
    "\n",
    "fl = open(\"../data/ready_for_logistic.csv\",\"w\")\n",
    "ready_full_data = csv.writer(fl,dialect = 'excel',lineterminator='\\n')\n",
    "ready_full_data.writerow(headers_new)\n",
    "for row in full_bin_data:\n",
    "    ready_full_data.writerow(row)\n",
    "    \n",
    "fl.close()    "
   ]
  },
  {
   "cell_type": "markdown",
   "metadata": {},
   "source": [
    "#### Cleansing data to convert everything to float values "
   ]
  },
  {
   "cell_type": "code",
   "execution_count": 224,
   "metadata": {
    "collapsed": false
   },
   "outputs": [
    {
     "name": "stdout",
     "output_type": "stream",
     "text": [
      "6\n"
     ]
    }
   ],
   "source": [
    "full_fl = csv.reader(open(\"../data/ready_for_logistic.csv\",\"r\"))\n",
    "headers = full_fl.__next__()\n",
    "\n",
    "fl = open(\"../data/ready_for_logistic_clean.csv\",\"w\")\n",
    "ready_full_data = csv.writer(fl,dialect = 'excel',lineterminator='\\n')\n",
    "ready_full_data.writerow(headers)\n",
    "count = 0\n",
    "for row in full_fl:\n",
    "    clean_row = []\n",
    "    for col in row:\n",
    "        if(col == '?'):\n",
    "            clean_row.append(0)\n",
    "            count += 1\n",
    "        else:\n",
    "            clean_row.append(int(col.strip()))\n",
    "        \n",
    "    ready_full_data.writerow(clean_row)\n",
    "\n",
    "fl.close()\n",
    "\n",
    "print(count)"
   ]
  },
  {
   "cell_type": "markdown",
   "metadata": {
    "collapsed": false
   },
   "source": [
    "## Getting the data ready for logistic regression"
   ]
  },
  {
   "cell_type": "code",
   "execution_count": 245,
   "metadata": {
    "collapsed": false
   },
   "outputs": [
    {
     "name": "stdout",
     "output_type": "stream",
     "text": [
      "     height0  height1  height2  height3  height4  height5  height6  height7  \\\n",
      "748        1        0        0        0        0        0        0        0   \n",
      "749        0        1        0        0        0        0        0        0   \n",
      "750        0        0        1        0        0        0        0        0   \n",
      "751        1        0        0        0        0        0        0        0   \n",
      "752        0        0        0        1        0        0        0        0   \n",
      "753        0        1        0        0        0        0        0        0   \n",
      "754        0        1        0        0        0        0        0        0   \n",
      "755        0        1        0        0        0        0        0        0   \n",
      "756        1        0        0        0        0        0        0        0   \n",
      "757        1        0        0        0        0        0        0        0   \n",
      "758        1        0        0        0        0        0        0        0   \n",
      "759        1        0        0        0        0        0        0        0   \n",
      "760        0        1        0        0        0        0        0        0   \n",
      "761        0        0        1        0        0        0        0        0   \n",
      "762        0        0        1        0        0        0        0        0   \n",
      "763        0        0        1        0        0        0        0        0   \n",
      "764        0        0        1        0        0        0        0        0   \n",
      "765        0        0        1        0        0        0        0        0   \n",
      "766        0        0        1        0        0        0        0        0   \n",
      "767        0        0        1        0        0        0        0        0   \n",
      "768        0        1        0        0        0        0        0        0   \n",
      "769        0        0        1        0        0        0        0        0   \n",
      "770        0        0        1        0        0        0        0        0   \n",
      "771        0        1        0        0        0        0        0        0   \n",
      "772        0        1        0        0        0        0        0        0   \n",
      "773        0        1        0        0        0        0        0        0   \n",
      "774        0        1        0        0        0        0        0        0   \n",
      "775        0        1        0        0        0        0        0        0   \n",
      "776        0        1        0        0        0        0        0        0   \n",
      "777        0        0        1        0        0        0        0        0   \n",
      "..       ...      ...      ...      ...      ...      ...      ...      ...   \n",
      "968        0        1        0        0        0        0        0        0   \n",
      "969        0        0        1        0        0        0        0        0   \n",
      "970        1        0        0        0        0        0        0        0   \n",
      "971        0        0        1        0        0        0        0        0   \n",
      "972        1        0        0        0        0        0        0        0   \n",
      "973        1        0        0        0        0        0        0        0   \n",
      "974        1        0        0        0        0        0        0        0   \n",
      "975        0        1        0        0        0        0        0        0   \n",
      "976        0        0        1        0        0        0        0        0   \n",
      "977        1        0        0        0        0        0        0        0   \n",
      "978        1        0        0        0        0        0        0        0   \n",
      "979        1        0        0        0        0        0        0        0   \n",
      "980        1        0        0        0        0        0        0        0   \n",
      "981        1        0        0        0        0        0        0        0   \n",
      "982        1        0        0        0        0        0        0        0   \n",
      "983        1        0        0        0        0        0        0        0   \n",
      "984        0        0        1        0        0        0        0        0   \n",
      "985        1        0        0        0        0        0        0        0   \n",
      "986        1        0        0        0        0        0        0        0   \n",
      "987        1        0        0        0        0        0        0        0   \n",
      "988        0        1        0        0        0        0        0        0   \n",
      "989        1        0        0        0        0        0        0        0   \n",
      "990        0        1        0        0        0        0        0        0   \n",
      "991        1        0        0        0        0        0        0        0   \n",
      "992        1        0        0        0        0        0        0        0   \n",
      "993        1        0        0        0        0        0        0        0   \n",
      "994        1        0        0        0        0        0        0        0   \n",
      "995        1        0        0        0        0        0        0        0   \n",
      "996        1        0        0        0        0        0        0        0   \n",
      "997        0        1        0        0        0        0        0        0   \n",
      "\n",
      "     height8  height9  ...    caption_home  caption_my  caption_your  \\\n",
      "748        0        0  ...               0           0             0   \n",
      "749        0        0  ...               0           0             0   \n",
      "750        0        0  ...               0           0             0   \n",
      "751        0        0  ...               0           0             0   \n",
      "752        0        0  ...               0           0             0   \n",
      "753        0        0  ...               0           0             0   \n",
      "754        0        0  ...               0           0             0   \n",
      "755        0        0  ...               0           0             0   \n",
      "756        0        0  ...               0           0             0   \n",
      "757        0        0  ...               0           0             0   \n",
      "758        0        0  ...               0           0             0   \n",
      "759        0        0  ...               0           0             0   \n",
      "760        0        0  ...               0           0             0   \n",
      "761        0        0  ...               0           0             0   \n",
      "762        0        0  ...               0           0             0   \n",
      "763        0        0  ...               0           0             0   \n",
      "764        0        0  ...               0           0             0   \n",
      "765        0        0  ...               0           0             0   \n",
      "766        0        0  ...               0           0             0   \n",
      "767        0        0  ...               0           0             0   \n",
      "768        0        0  ...               0           0             0   \n",
      "769        0        0  ...               0           0             0   \n",
      "770        0        0  ...               0           0             0   \n",
      "771        0        0  ...               0           0             0   \n",
      "772        0        0  ...               0           0             0   \n",
      "773        0        0  ...               0           0             0   \n",
      "774        0        0  ...               0           0             0   \n",
      "775        0        0  ...               0           0             0   \n",
      "776        0        0  ...               0           0             0   \n",
      "777        0        0  ...               0           0             0   \n",
      "..       ...      ...  ...             ...         ...           ...   \n",
      "968        0        0  ...               0           0             0   \n",
      "969        0        0  ...               0           0             0   \n",
      "970        0        0  ...               0           0             0   \n",
      "971        0        0  ...               0           0             0   \n",
      "972        0        0  ...               0           0             0   \n",
      "973        0        0  ...               0           0             0   \n",
      "974        0        0  ...               0           0             0   \n",
      "975        0        0  ...               0           0             0   \n",
      "976        0        0  ...               0           0             0   \n",
      "977        0        0  ...               0           0             0   \n",
      "978        0        0  ...               0           0             0   \n",
      "979        0        0  ...               0           0             0   \n",
      "980        0        0  ...               0           0             0   \n",
      "981        0        0  ...               0           0             0   \n",
      "982        0        0  ...               0           0             0   \n",
      "983        0        0  ...               0           0             0   \n",
      "984        0        0  ...               0           0             0   \n",
      "985        0        0  ...               0           0             0   \n",
      "986        0        0  ...               0           0             0   \n",
      "987        0        0  ...               0           0             0   \n",
      "988        0        0  ...               0           0             0   \n",
      "989        0        0  ...               0           0             0   \n",
      "990        0        0  ...               0           0             0   \n",
      "991        0        0  ...               0           0             0   \n",
      "992        0        0  ...               0           0             0   \n",
      "993        0        0  ...               0           0             0   \n",
      "994        0        0  ...               0           0             0   \n",
      "995        0        0  ...               0           0             0   \n",
      "996        0        0  ...               0           0             0   \n",
      "997        0        0  ...               0           0             0   \n",
      "\n",
      "     caption_in  caption_bytes  caption_here  caption_click  caption_for  \\\n",
      "748           0              0             0              0            0   \n",
      "749           0              0             0              0            0   \n",
      "750           0              0             0              0            0   \n",
      "751           0              0             0              0            0   \n",
      "752           0              0             0              0            0   \n",
      "753           0              0             0              0            0   \n",
      "754           0              0             0              0            0   \n",
      "755           0              0             0              0            0   \n",
      "756           0              0             0              0            0   \n",
      "757           0              0             0              0            0   \n",
      "758           0              0             0              0            0   \n",
      "759           0              0             0              0            0   \n",
      "760           0              0             0              0            0   \n",
      "761           0              0             0              0            0   \n",
      "762           0              0             0              0            0   \n",
      "763           0              0             0              0            0   \n",
      "764           0              0             0              0            0   \n",
      "765           0              0             0              0            0   \n",
      "766           0              0             0              0            0   \n",
      "767           0              0             0              0            0   \n",
      "768           0              0             0              0            0   \n",
      "769           0              0             0              0            0   \n",
      "770           0              0             0              0            0   \n",
      "771           0              0             0              0            0   \n",
      "772           0              0             0              0            0   \n",
      "773           0              0             0              0            0   \n",
      "774           0              0             0              0            0   \n",
      "775           0              0             0              0            0   \n",
      "776           0              0             0              0            0   \n",
      "777           0              0             0              0            0   \n",
      "..          ...            ...           ...            ...          ...   \n",
      "968           0              0             0              0            0   \n",
      "969           0              0             0              0            0   \n",
      "970           0              0             0              0            0   \n",
      "971           0              0             0              0            0   \n",
      "972           0              0             0              0            0   \n",
      "973           0              0             0              0            0   \n",
      "974           0              0             0              0            0   \n",
      "975           0              0             0              0            0   \n",
      "976           0              0             0              0            0   \n",
      "977           0              0             0              0            0   \n",
      "978           0              0             0              0            0   \n",
      "979           0              0             0              0            0   \n",
      "980           0              0             0              0            0   \n",
      "981           0              0             0              0            0   \n",
      "982           0              0             0              0            0   \n",
      "983           0              0             0              0            0   \n",
      "984           0              0             0              0            0   \n",
      "985           0              0             0              0            0   \n",
      "986           0              0             0              0            0   \n",
      "987           0              0             0              0            0   \n",
      "988           0              0             0              0            0   \n",
      "989           0              0             0              0            0   \n",
      "990           0              0             0              0            0   \n",
      "991           0              0             0              0            0   \n",
      "992           0              0             0              0            0   \n",
      "993           0              0             0              0            0   \n",
      "994           0              0             0              0            0   \n",
      "995           0              0             0              0            0   \n",
      "996           0              0             0              0            0   \n",
      "997           0              0             0              0            0   \n",
      "\n",
      "     caption_you  class  \n",
      "748            0      0  \n",
      "749            0      0  \n",
      "750            0      0  \n",
      "751            0      0  \n",
      "752            0      0  \n",
      "753            0      0  \n",
      "754            0      1  \n",
      "755            0      1  \n",
      "756            0      1  \n",
      "757            0      1  \n",
      "758            0      1  \n",
      "759            0      1  \n",
      "760            0      1  \n",
      "761            0      1  \n",
      "762            0      1  \n",
      "763            0      1  \n",
      "764            0      1  \n",
      "765            0      1  \n",
      "766            0      1  \n",
      "767            0      1  \n",
      "768            0      1  \n",
      "769            0      1  \n",
      "770            0      1  \n",
      "771            0      1  \n",
      "772            0      1  \n",
      "773            0      1  \n",
      "774            0      1  \n",
      "775            0      1  \n",
      "776            0      1  \n",
      "777            0      1  \n",
      "..           ...    ...  \n",
      "968            0      0  \n",
      "969            0      0  \n",
      "970            0      0  \n",
      "971            0      0  \n",
      "972            0      0  \n",
      "973            0      0  \n",
      "974            0      0  \n",
      "975            0      0  \n",
      "976            0      0  \n",
      "977            0      0  \n",
      "978            0      0  \n",
      "979            0      0  \n",
      "980            0      0  \n",
      "981            0      0  \n",
      "982            0      0  \n",
      "983            0      0  \n",
      "984            0      0  \n",
      "985            0      0  \n",
      "986            0      0  \n",
      "987            0      0  \n",
      "988            0      0  \n",
      "989            0      0  \n",
      "990            0      0  \n",
      "991            0      0  \n",
      "992            0      0  \n",
      "993            0      0  \n",
      "994            0      0  \n",
      "995            0      0  \n",
      "996            0      0  \n",
      "997            0      0  \n",
      "\n",
      "[250 rows x 1598 columns]\n"
     ]
    }
   ],
   "source": [
    "dta = pd.read_csv('../data/ready_for_logistic_clean.csv')\n",
    "\n",
    "#printing a few statistics\n",
    "#print(dta.std())\n",
    "div_percentage = 0.75\n",
    "train_test_boundary = math.floor(div_percentage*len(dta))\n",
    "end_boundary = len(dta)\n",
    "train_data = dta[:train_test_boundary]\n",
    "test_data = dta[train_test_boundary:]\n",
    "\n",
    "print(test_data)"
   ]
  },
  {
   "cell_type": "code",
   "execution_count": 246,
   "metadata": {
    "collapsed": false
   },
   "outputs": [
    {
     "name": "stdout",
     "output_type": "stream",
     "text": [
      "998\n"
     ]
    }
   ],
   "source": [
    "print(len(dta))"
   ]
  },
  {
   "cell_type": "code",
   "execution_count": 247,
   "metadata": {
    "collapsed": false
   },
   "outputs": [
    {
     "name": "stdout",
     "output_type": "stream",
     "text": [
      "     height0  height1  height2  height3  height4  height5  height6  height7  \\\n",
      "748        1        0        0        0        0        0        0        0   \n",
      "749        0        1        0        0        0        0        0        0   \n",
      "750        0        0        1        0        0        0        0        0   \n",
      "751        1        0        0        0        0        0        0        0   \n",
      "752        0        0        0        1        0        0        0        0   \n",
      "753        0        1        0        0        0        0        0        0   \n",
      "754        0        1        0        0        0        0        0        0   \n",
      "755        0        1        0        0        0        0        0        0   \n",
      "756        1        0        0        0        0        0        0        0   \n",
      "757        1        0        0        0        0        0        0        0   \n",
      "758        1        0        0        0        0        0        0        0   \n",
      "759        1        0        0        0        0        0        0        0   \n",
      "760        0        1        0        0        0        0        0        0   \n",
      "761        0        0        1        0        0        0        0        0   \n",
      "762        0        0        1        0        0        0        0        0   \n",
      "763        0        0        1        0        0        0        0        0   \n",
      "764        0        0        1        0        0        0        0        0   \n",
      "765        0        0        1        0        0        0        0        0   \n",
      "766        0        0        1        0        0        0        0        0   \n",
      "767        0        0        1        0        0        0        0        0   \n",
      "768        0        1        0        0        0        0        0        0   \n",
      "769        0        0        1        0        0        0        0        0   \n",
      "770        0        0        1        0        0        0        0        0   \n",
      "771        0        1        0        0        0        0        0        0   \n",
      "772        0        1        0        0        0        0        0        0   \n",
      "773        0        1        0        0        0        0        0        0   \n",
      "774        0        1        0        0        0        0        0        0   \n",
      "775        0        1        0        0        0        0        0        0   \n",
      "776        0        1        0        0        0        0        0        0   \n",
      "777        0        0        1        0        0        0        0        0   \n",
      "..       ...      ...      ...      ...      ...      ...      ...      ...   \n",
      "968        0        1        0        0        0        0        0        0   \n",
      "969        0        0        1        0        0        0        0        0   \n",
      "970        1        0        0        0        0        0        0        0   \n",
      "971        0        0        1        0        0        0        0        0   \n",
      "972        1        0        0        0        0        0        0        0   \n",
      "973        1        0        0        0        0        0        0        0   \n",
      "974        1        0        0        0        0        0        0        0   \n",
      "975        0        1        0        0        0        0        0        0   \n",
      "976        0        0        1        0        0        0        0        0   \n",
      "977        1        0        0        0        0        0        0        0   \n",
      "978        1        0        0        0        0        0        0        0   \n",
      "979        1        0        0        0        0        0        0        0   \n",
      "980        1        0        0        0        0        0        0        0   \n",
      "981        1        0        0        0        0        0        0        0   \n",
      "982        1        0        0        0        0        0        0        0   \n",
      "983        1        0        0        0        0        0        0        0   \n",
      "984        0        0        1        0        0        0        0        0   \n",
      "985        1        0        0        0        0        0        0        0   \n",
      "986        1        0        0        0        0        0        0        0   \n",
      "987        1        0        0        0        0        0        0        0   \n",
      "988        0        1        0        0        0        0        0        0   \n",
      "989        1        0        0        0        0        0        0        0   \n",
      "990        0        1        0        0        0        0        0        0   \n",
      "991        1        0        0        0        0        0        0        0   \n",
      "992        1        0        0        0        0        0        0        0   \n",
      "993        1        0        0        0        0        0        0        0   \n",
      "994        1        0        0        0        0        0        0        0   \n",
      "995        1        0        0        0        0        0        0        0   \n",
      "996        1        0        0        0        0        0        0        0   \n",
      "997        0        1        0        0        0        0        0        0   \n",
      "\n",
      "     height8  height9    ...      caption_home  caption_my  caption_your  \\\n",
      "748        0        0    ...                 0           0             0   \n",
      "749        0        0    ...                 0           0             0   \n",
      "750        0        0    ...                 0           0             0   \n",
      "751        0        0    ...                 0           0             0   \n",
      "752        0        0    ...                 0           0             0   \n",
      "753        0        0    ...                 0           0             0   \n",
      "754        0        0    ...                 0           0             0   \n",
      "755        0        0    ...                 0           0             0   \n",
      "756        0        0    ...                 0           0             0   \n",
      "757        0        0    ...                 0           0             0   \n",
      "758        0        0    ...                 0           0             0   \n",
      "759        0        0    ...                 0           0             0   \n",
      "760        0        0    ...                 0           0             0   \n",
      "761        0        0    ...                 0           0             0   \n",
      "762        0        0    ...                 0           0             0   \n",
      "763        0        0    ...                 0           0             0   \n",
      "764        0        0    ...                 0           0             0   \n",
      "765        0        0    ...                 0           0             0   \n",
      "766        0        0    ...                 0           0             0   \n",
      "767        0        0    ...                 0           0             0   \n",
      "768        0        0    ...                 0           0             0   \n",
      "769        0        0    ...                 0           0             0   \n",
      "770        0        0    ...                 0           0             0   \n",
      "771        0        0    ...                 0           0             0   \n",
      "772        0        0    ...                 0           0             0   \n",
      "773        0        0    ...                 0           0             0   \n",
      "774        0        0    ...                 0           0             0   \n",
      "775        0        0    ...                 0           0             0   \n",
      "776        0        0    ...                 0           0             0   \n",
      "777        0        0    ...                 0           0             0   \n",
      "..       ...      ...    ...               ...         ...           ...   \n",
      "968        0        0    ...                 0           0             0   \n",
      "969        0        0    ...                 0           0             0   \n",
      "970        0        0    ...                 0           0             0   \n",
      "971        0        0    ...                 0           0             0   \n",
      "972        0        0    ...                 0           0             0   \n",
      "973        0        0    ...                 0           0             0   \n",
      "974        0        0    ...                 0           0             0   \n",
      "975        0        0    ...                 0           0             0   \n",
      "976        0        0    ...                 0           0             0   \n",
      "977        0        0    ...                 0           0             0   \n",
      "978        0        0    ...                 0           0             0   \n",
      "979        0        0    ...                 0           0             0   \n",
      "980        0        0    ...                 0           0             0   \n",
      "981        0        0    ...                 0           0             0   \n",
      "982        0        0    ...                 0           0             0   \n",
      "983        0        0    ...                 0           0             0   \n",
      "984        0        0    ...                 0           0             0   \n",
      "985        0        0    ...                 0           0             0   \n",
      "986        0        0    ...                 0           0             0   \n",
      "987        0        0    ...                 0           0             0   \n",
      "988        0        0    ...                 0           0             0   \n",
      "989        0        0    ...                 0           0             0   \n",
      "990        0        0    ...                 0           0             0   \n",
      "991        0        0    ...                 0           0             0   \n",
      "992        0        0    ...                 0           0             0   \n",
      "993        0        0    ...                 0           0             0   \n",
      "994        0        0    ...                 0           0             0   \n",
      "995        0        0    ...                 0           0             0   \n",
      "996        0        0    ...                 0           0             0   \n",
      "997        0        0    ...                 0           0             0   \n",
      "\n",
      "     caption_in  caption_bytes  caption_here  caption_click  caption_for  \\\n",
      "748           0              0             0              0            0   \n",
      "749           0              0             0              0            0   \n",
      "750           0              0             0              0            0   \n",
      "751           0              0             0              0            0   \n",
      "752           0              0             0              0            0   \n",
      "753           0              0             0              0            0   \n",
      "754           0              0             0              0            0   \n",
      "755           0              0             0              0            0   \n",
      "756           0              0             0              0            0   \n",
      "757           0              0             0              0            0   \n",
      "758           0              0             0              0            0   \n",
      "759           0              0             0              0            0   \n",
      "760           0              0             0              0            0   \n",
      "761           0              0             0              0            0   \n",
      "762           0              0             0              0            0   \n",
      "763           0              0             0              0            0   \n",
      "764           0              0             0              0            0   \n",
      "765           0              0             0              0            0   \n",
      "766           0              0             0              0            0   \n",
      "767           0              0             0              0            0   \n",
      "768           0              0             0              0            0   \n",
      "769           0              0             0              0            0   \n",
      "770           0              0             0              0            0   \n",
      "771           0              0             0              0            0   \n",
      "772           0              0             0              0            0   \n",
      "773           0              0             0              0            0   \n",
      "774           0              0             0              0            0   \n",
      "775           0              0             0              0            0   \n",
      "776           0              0             0              0            0   \n",
      "777           0              0             0              0            0   \n",
      "..          ...            ...           ...            ...          ...   \n",
      "968           0              0             0              0            0   \n",
      "969           0              0             0              0            0   \n",
      "970           0              0             0              0            0   \n",
      "971           0              0             0              0            0   \n",
      "972           0              0             0              0            0   \n",
      "973           0              0             0              0            0   \n",
      "974           0              0             0              0            0   \n",
      "975           0              0             0              0            0   \n",
      "976           0              0             0              0            0   \n",
      "977           0              0             0              0            0   \n",
      "978           0              0             0              0            0   \n",
      "979           0              0             0              0            0   \n",
      "980           0              0             0              0            0   \n",
      "981           0              0             0              0            0   \n",
      "982           0              0             0              0            0   \n",
      "983           0              0             0              0            0   \n",
      "984           0              0             0              0            0   \n",
      "985           0              0             0              0            0   \n",
      "986           0              0             0              0            0   \n",
      "987           0              0             0              0            0   \n",
      "988           0              0             0              0            0   \n",
      "989           0              0             0              0            0   \n",
      "990           0              0             0              0            0   \n",
      "991           0              0             0              0            0   \n",
      "992           0              0             0              0            0   \n",
      "993           0              0             0              0            0   \n",
      "994           0              0             0              0            0   \n",
      "995           0              0             0              0            0   \n",
      "996           0              0             0              0            0   \n",
      "997           0              0             0              0            0   \n",
      "\n",
      "     caption_you  intercept  \n",
      "748            0          1  \n",
      "749            0          1  \n",
      "750            0          1  \n",
      "751            0          1  \n",
      "752            0          1  \n",
      "753            0          1  \n",
      "754            0          1  \n",
      "755            0          1  \n",
      "756            0          1  \n",
      "757            0          1  \n",
      "758            0          1  \n",
      "759            0          1  \n",
      "760            0          1  \n",
      "761            0          1  \n",
      "762            0          1  \n",
      "763            0          1  \n",
      "764            0          1  \n",
      "765            0          1  \n",
      "766            0          1  \n",
      "767            0          1  \n",
      "768            0          1  \n",
      "769            0          1  \n",
      "770            0          1  \n",
      "771            0          1  \n",
      "772            0          1  \n",
      "773            0          1  \n",
      "774            0          1  \n",
      "775            0          1  \n",
      "776            0          1  \n",
      "777            0          1  \n",
      "..           ...        ...  \n",
      "968            0          1  \n",
      "969            0          1  \n",
      "970            0          1  \n",
      "971            0          1  \n",
      "972            0          1  \n",
      "973            0          1  \n",
      "974            0          1  \n",
      "975            0          1  \n",
      "976            0          1  \n",
      "977            0          1  \n",
      "978            0          1  \n",
      "979            0          1  \n",
      "980            0          1  \n",
      "981            0          1  \n",
      "982            0          1  \n",
      "983            0          1  \n",
      "984            0          1  \n",
      "985            0          1  \n",
      "986            0          1  \n",
      "987            0          1  \n",
      "988            0          1  \n",
      "989            0          1  \n",
      "990            0          1  \n",
      "991            0          1  \n",
      "992            0          1  \n",
      "993            0          1  \n",
      "994            0          1  \n",
      "995            0          1  \n",
      "996            0          1  \n",
      "997            0          1  \n",
      "\n",
      "[250 rows x 1598 columns]\n"
     ]
    }
   ],
   "source": [
    "full_fl = csv.reader(open(\"../data/ready_for_logistic_clean.csv\",\"r\"))\n",
    "headers = full_fl.__next__()\n",
    "data = train_data[headers]\n",
    "test_data = test_data[headers]\n",
    "data['intercept'] = 1.0\n",
    "test_data['intercept'] = 1.0\n",
    "#print(data.head())\n",
    "\n",
    "headers_1 = headers\n",
    "headers_1.remove('class')\n",
    "headers_1.append('intercept')\n",
    "\n",
    "print(test_data[headers_1])"
   ]
  },
  {
   "cell_type": "code",
   "execution_count": 248,
   "metadata": {
    "collapsed": false
   },
   "outputs": [
    {
     "name": "stdout",
     "output_type": "stream",
     "text": [
      "0    1\n",
      "1    1\n",
      "2    1\n",
      "3    1\n",
      "4    1\n",
      "Name: class, dtype: int64\n"
     ]
    }
   ],
   "source": [
    "print(data['class'].head())"
   ]
  },
  {
   "cell_type": "markdown",
   "metadata": {},
   "source": [
    "## Learning using logistic regression"
   ]
  },
  {
   "cell_type": "code",
   "execution_count": 249,
   "metadata": {
    "collapsed": false
   },
   "outputs": [
    {
     "data": {
      "text/plain": [
       "LogisticRegression(C=1.0, class_weight=None, dual=False, fit_intercept=True,\n",
       "          intercept_scaling=1, max_iter=100, multi_class='ovr',\n",
       "          penalty='l2', random_state=None, solver='liblinear', tol=0.0001,\n",
       "          verbose=0)"
      ]
     },
     "execution_count": 249,
     "metadata": {},
     "output_type": "execute_result"
    }
   ],
   "source": [
    "logistic = LogisticRegression()\n",
    "y = data['class']\n",
    "X = data[headers_1]\n",
    "logistic.fit(X,y)"
   ]
  },
  {
   "cell_type": "markdown",
   "metadata": {},
   "source": [
    "## Predicition made on the test data"
   ]
  },
  {
   "cell_type": "code",
   "execution_count": 250,
   "metadata": {
    "collapsed": false
   },
   "outputs": [
    {
     "name": "stdout",
     "output_type": "stream",
     "text": [
      "Predicted class [0 0 0 0 0 0 1 1 1 1 1 1 1 1 1 1 1 1 1 1 1 1 1 1 1 1 1 1 1 1 1 1 1 1 1 1 1\n",
      " 1 1 1 1 1 1 1 1 1 1 1 1 1 1 1 1 1 1 1 0 1 1 1 1 1 1 1 1 1 1 1 0 0 0 1 1 1\n",
      " 1 1 0 0 0 0 0 0 0 0 0 0 0 0 0 0 0 0 0 0 0 0 0 0 0 0 0 0 0 0 1 0 0 1 1 1 0\n",
      " 1 0 0 0 0 0 0 1 0 0 0 0 0 0 0 0 0 1 0 0 0 1 0 0 0 0 0 0 0 0 0 0 1 0 0 0 0\n",
      " 1 0 0 1 1 0 0 0 0 1 0 0 1 0 0 0 0 1 0 1 0 1 0 0 1 0 0 0 0 0 0 0 0 1 0 0 0\n",
      " 0 0 0 0 0 1 1 0 0 0 0 0 0 0 0 1 0 0 0 0 1 0 0 0 0 0 0 0 0 0 0 0 0 0 1 0 0\n",
      " 0 0 0 0 0 0 0 0 0 0 0 0 0 0 0 0 0 0 1 0 0 0 0 0 0 0 0 1], real class 748    0\n",
      "749    0\n",
      "750    0\n",
      "751    0\n",
      "752    0\n",
      "753    0\n",
      "754    1\n",
      "755    1\n",
      "756    1\n",
      "757    1\n",
      "758    1\n",
      "759    1\n",
      "760    1\n",
      "761    1\n",
      "762    1\n",
      "763    1\n",
      "764    1\n",
      "765    1\n",
      "766    1\n",
      "767    1\n",
      "768    1\n",
      "769    1\n",
      "770    1\n",
      "771    1\n",
      "772    1\n",
      "773    1\n",
      "774    1\n",
      "775    1\n",
      "776    1\n",
      "777    1\n",
      "      ..\n",
      "968    0\n",
      "969    0\n",
      "970    0\n",
      "971    0\n",
      "972    0\n",
      "973    0\n",
      "974    0\n",
      "975    0\n",
      "976    0\n",
      "977    0\n",
      "978    0\n",
      "979    0\n",
      "980    0\n",
      "981    0\n",
      "982    0\n",
      "983    0\n",
      "984    0\n",
      "985    0\n",
      "986    0\n",
      "987    0\n",
      "988    0\n",
      "989    0\n",
      "990    0\n",
      "991    0\n",
      "992    0\n",
      "993    0\n",
      "994    0\n",
      "995    0\n",
      "996    0\n",
      "997    0\n",
      "Name: class, dtype: int64\n"
     ]
    }
   ],
   "source": [
    "y = test_data['class']\n",
    "print(\"Predicted class %s, real class %s\" % (logistic.predict(test_data[headers_1]),y))"
   ]
  },
  {
   "cell_type": "code",
   "execution_count": 251,
   "metadata": {
    "collapsed": false
   },
   "outputs": [
    {
     "name": "stdout",
     "output_type": "stream",
     "text": [
      "250\n"
     ]
    }
   ],
   "source": [
    "print(len(logistic.predict(test_data[headers_1])))"
   ]
  },
  {
   "cell_type": "code",
   "execution_count": 252,
   "metadata": {
    "collapsed": false
   },
   "outputs": [],
   "source": [
    "actual_class_val = []\n",
    "for i in range(train_test_boundary,end_boundary):\n",
    "    actual_class_val.append(y[i])\n",
    "\n",
    "# Predicted value\n",
    "predictions = logistic.predict(test_data[headers_1])   "
   ]
  },
  {
   "cell_type": "code",
   "execution_count": 253,
   "metadata": {
    "collapsed": false
   },
   "outputs": [
    {
     "name": "stdout",
     "output_type": "stream",
     "text": [
      "250\n",
      "250\n",
      "217\n",
      "86.8\n"
     ]
    }
   ],
   "source": [
    "## Calculating accuracy of training data set\n",
    "\n",
    "print(len(predictions))\n",
    "print(len(actual_class_val))\n",
    "\n",
    "count = 0\n",
    "\n",
    "for i in range(0,(end_boundary-train_test_boundary)):\n",
    "    if predictions[i] == actual_class_val[i]:\n",
    "        count += 1\n",
    "        \n",
    "print(count)\n",
    "print(count*100/(end_boundary-train_test_boundary))"
   ]
  },
  {
   "cell_type": "code",
   "execution_count": 254,
   "metadata": {
    "collapsed": false
   },
   "outputs": [
    {
     "name": "stdout",
     "output_type": "stream",
     "text": [
      "250\n"
     ]
    }
   ],
   "source": [
    "print(end_boundary-train_test_boundary)"
   ]
  },
  {
   "cell_type": "code",
   "execution_count": null,
   "metadata": {
    "collapsed": false
   },
   "outputs": [],
   "source": [
    "print(len(predictions))\n",
    "print(len(class_val))"
   ]
  },
  {
   "cell_type": "code",
   "execution_count": null,
   "metadata": {
    "collapsed": true
   },
   "outputs": [],
   "source": []
  }
 ],
 "metadata": {
  "kernelspec": {
   "display_name": "Python 3",
   "language": "python",
   "name": "python3"
  },
  "language_info": {
   "codemirror_mode": {
    "name": "ipython",
    "version": 3
   },
   "file_extension": ".py",
   "mimetype": "text/x-python",
   "name": "python",
   "nbconvert_exporter": "python",
   "pygments_lexer": "ipython3",
   "version": "3.4.3"
  }
 },
 "nbformat": 4,
 "nbformat_minor": 0
}
